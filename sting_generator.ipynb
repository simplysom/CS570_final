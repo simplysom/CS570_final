{
 "cells": [
  {
   "cell_type": "code",
   "execution_count": 35,
   "metadata": {},
   "outputs": [],
   "source": [
    "#code to open file\n",
    "f=open(\"C:/Users/soumyaprakash/Desktop/study books/BaseTestcases_CS570FinalProject/\"+\"test_input.txt\")"
   ]
  },
  {
   "cell_type": "code",
   "execution_count": 36,
   "metadata": {},
   "outputs": [],
   "source": [
    "#gives the file in the form of a list.if you want to execute this cell multiple times always execute the cell above this first \n",
    "f_contents=f.readlines()"
   ]
  },
  {
   "cell_type": "code",
   "execution_count": 37,
   "metadata": {},
   "outputs": [
    {
     "data": {
      "text/plain": [
       "['ACTG\\n', '3\\n', '6\\n', '1\\n', 'TACG\\n', '1\\n', '2\\n', '9']"
      ]
     },
     "execution_count": 37,
     "metadata": {},
     "output_type": "execute_result"
    }
   ],
   "source": [
    "f_contents"
   ]
  },
  {
   "cell_type": "markdown",
   "metadata": {},
   "source": []
  },
  {
   "cell_type": "code",
   "execution_count": 38,
   "metadata": {},
   "outputs": [],
   "source": [
    "converted_list=[]"
   ]
  },
  {
   "cell_type": "code",
   "execution_count": 39,
   "metadata": {},
   "outputs": [],
   "source": [
    "#loop to eliminate the \\n character\n",
    "for element in f_contents:\n",
    "    converted_list.append(element.strip())"
   ]
  },
  {
   "cell_type": "code",
   "execution_count": 40,
   "metadata": {},
   "outputs": [
    {
     "data": {
      "text/plain": [
       "['ACTG', '3', '6', '1', 'TACG', '1', '2', '9']"
      ]
     },
     "execution_count": 40,
     "metadata": {},
     "output_type": "execute_result"
    }
   ],
   "source": [
    "converted_list"
   ]
  },
  {
   "cell_type": "code",
   "execution_count": 41,
   "metadata": {},
   "outputs": [
    {
     "data": {
      "text/plain": [
       "str"
      ]
     },
     "execution_count": 41,
     "metadata": {},
     "output_type": "execute_result"
    }
   ],
   "source": [
    "type(converted_list[1])"
   ]
  },
  {
   "cell_type": "code",
   "execution_count": 42,
   "metadata": {},
   "outputs": [],
   "source": [
    "res=[]\n",
    "#converting the numbers that are present in the string format to integers \n",
    "for i in converted_list:\n",
    "    if i==\"ACTG\" or i==\"TACG\":\n",
    "        res.append(i)\n",
    "    else:\n",
    "        res.append(int(i))"
   ]
  },
  {
   "cell_type": "code",
   "execution_count": 43,
   "metadata": {},
   "outputs": [
    {
     "data": {
      "text/plain": [
       "['ACTG', 3, 6, 1, 'TACG', 1, 2, 9]"
      ]
     },
     "execution_count": 43,
     "metadata": {},
     "output_type": "execute_result"
    }
   ],
   "source": [
    "res"
   ]
  },
  {
   "cell_type": "code",
   "execution_count": 44,
   "metadata": {},
   "outputs": [
    {
     "data": {
      "text/plain": [
       "type"
      ]
     },
     "execution_count": 44,
     "metadata": {},
     "output_type": "execute_result"
    }
   ],
   "source": [
    "a=type(res[0])\n",
    "a\n",
    "type(a)"
   ]
  },
  {
   "cell_type": "code",
   "execution_count": 47,
   "metadata": {},
   "outputs": [
    {
     "name": "stdout",
     "output_type": "stream",
     "text": [
      "3 5\n"
     ]
    }
   ],
   "source": [
    "s1=res[0]\n",
    "j=1\n",
    "while(res[j]!='TACG'):\n",
    "#     print(res[j])\n",
    "    j+=1\n",
    "    \n",
    "    \n",
    "# end point of all the modifications that need to happen to the first base string\n",
    "    \n",
    "all_mod_first=j-1\n",
    "    \n",
    "# starting point of all the modifications that need to happen to the second base string\n",
    "all_mod_second=j+1\n",
    "\n",
    "print(all_mod_first,all_mod_second)"
   ]
  },
  {
   "cell_type": "code",
   "execution_count": 52,
   "metadata": {},
   "outputs": [
    {
     "data": {
      "text/plain": [
       "'ACACTGACTACTGACTGGTGACTACTGACTGG'"
      ]
     },
     "execution_count": 52,
     "metadata": {},
     "output_type": "execute_result"
    }
   ],
   "source": [
    "#generation of string 1\n",
    "\n",
    "s1=res[0]\n",
    "base_1=s1\n",
    "for i in range(1,j):\n",
    "    n=res[i]\n",
    "    s1=s1[0:n+1]+s1+s1[n+1:]\n",
    "  \n",
    "s1\n",
    "\n"
   ]
  },
  {
   "cell_type": "code",
   "execution_count": 53,
   "metadata": {},
   "outputs": [
    {
     "data": {
      "text/plain": [
       "'TATTATACGCTATTATACGCGACGCGGACGCG'"
      ]
     },
     "execution_count": 53,
     "metadata": {},
     "output_type": "execute_result"
    }
   ],
   "source": [
    "#generation of string 2\n",
    "\n",
    "s2=res[j]#as the index j points to the second base string in list res\n",
    "base_2=s2\n",
    "for i in range(j+1,len(res)):\n",
    "    n=res[i]\n",
    "    s2=s2[0:n+1]+s2+s2[n+1:]\n",
    "  \n",
    "s2"
   ]
  },
  {
   "cell_type": "code",
   "execution_count": 54,
   "metadata": {},
   "outputs": [],
   "source": [
    "s3='ACACTGACTACTGACTGGTGACTACTGACTGG'\n",
    "s4='TATTATACGCTATTATACGCGACGCGGACGCG'"
   ]
  },
  {
   "cell_type": "code",
   "execution_count": 56,
   "metadata": {},
   "outputs": [
    {
     "name": "stdout",
     "output_type": "stream",
     "text": [
      "yes\n"
     ]
    }
   ],
   "source": [
    "if(s1==s3 and s2==s4):\n",
    "    print(\"yes\")\n",
    "else:\n",
    "    print(\"no\")"
   ]
  },
  {
   "cell_type": "code",
   "execution_count": 57,
   "metadata": {},
   "outputs": [
    {
     "name": "stdout",
     "output_type": "stream",
     "text": [
      "Initialized empty Git repository in C:/Users/soumyaprakash/.git/\n"
     ]
    }
   ],
   "source": [
    "!git init"
   ]
  },
  {
   "cell_type": "code",
   "execution_count": 59,
   "metadata": {},
   "outputs": [
    {
     "name": "stdout",
     "output_type": "stream",
     "text": [
      "On branch master\n",
      "\n",
      "Initial commit\n",
      "\n",
      "Untracked files:\n",
      "  (use \"git add <file>...\" to include in what will be committed)\n",
      "\t.AndroidStudio4.0/\n",
      "\t.VirtualBox/\n",
      "\t.anaconda/\n",
      "\t.android/\n",
      "\t.astropy/\n",
      "\t.babel.json\n",
      "\t.bash_history\n",
      "\t.conda/\n",
      "\t.condarc\n",
      "\t.config/\n",
      "\t.electron-gyp/\n",
      "\t.emulator_console_auth_token\n",
      "\t.gitconfig\n",
      "\t.gradle/\n",
      "\t.ipynb_checkpoints/\n",
      "\t.ipython/\n",
      "\t.jupyter/\n",
      "\t.keras/\n",
      "\t.matplotlib/\n",
      "\t.nbi/\n",
      "\t.netbeans-derby/\n",
      "\t.node_repl_history\n",
      "\t.packettracer\n",
      "\t.pylint.d/\n",
      "\t.python_history\n",
      "\t.recently-used.xbel\n",
      "\t.tooling/\n",
      "\t.vscode/\n",
      "\t3D Objects/\n",
      "\tAnaconda3/\n",
      "\tAppData/\n",
      "\tContacts/\n",
      "\tDesktop/\n",
      "\tDocuments/\n",
      "\tDownloads/\n",
      "\tEnvs/\n",
      "\tFavorites/\n",
      "\tIntelGraphicsProfiles/\n",
      "\tLinks/\n",
      "\tMicrosoftEdgeBackups/\n",
      "\tMusic/\n",
      "\tNPProt.bkp\n",
      "\tNPProt.exe\n",
      "\tNTUSER.DAT\n",
      "\tNTUSER.DAT{53b39e88-18c4-11ea-a811-000d3aa4692b}.TM.blf\n",
      "\tNTUSER.DAT{53b39e88-18c4-11ea-a811-000d3aa4692b}.TMContainer00000000000000000001.regtrans-ms\n",
      "\tNTUSER.DAT{53b39e88-18c4-11ea-a811-000d3aa4692b}.TMContainer00000000000000000002.regtrans-ms\n",
      "\tOneDrive/\n",
      "\tPictures/\n",
      "\tPycharmProjects/\n",
      "\tSaved Games/\n",
      "\tSearches/\n",
      "\tUntitled.ipynb\n",
      "\tUntitled1.ipynb\n",
      "\tUntitled10.ipynb\n",
      "\tUntitled11.ipynb\n",
      "\tUntitled12.ipynb\n",
      "\tUntitled13-Copy1.ipynb\n",
      "\tUntitled13.ipynb\n",
      "\tUntitled2.ipynb\n",
      "\tUntitled3.ipynb\n",
      "\tUntitled4.ipynb\n",
      "\tUntitled5.ipynb\n",
      "\tUntitled6.ipynb\n",
      "\tUntitled7.ipynb\n",
      "\tUntitled8.ipynb\n",
      "\tUntitled9.ipynb\n",
      "\tVideos/\n",
      "\tYelpCamp/\n",
      "\t_netrc\n",
      "\tcomposer.json\n",
      "\tcomposer.lock\n",
      "\tdjango_project/\n",
      "\tdogs\n",
      "\tfinal_results_gender_test.ipynb\n",
      "\tjava/\n",
      "\tntuser.dat.LOG1\n",
      "\tntuser.dat.LOG2\n",
      "\tntuser.ini\n",
      "\tnumpy practice.ipynb\n",
      "\tpitwa.html\n",
      "\tpostgis_3_1_pg13.exe\n",
      "\tpostgres_files/\n",
      "\tpracs.ipynb\n",
      "\tssd.docx\n",
      "\tvendor/\n",
      "\n",
      "nothing added to commit but untracked files present (use \"git add\" to track)\n"
     ]
    },
    {
     "name": "stderr",
     "output_type": "stream",
     "text": [
      "warning: could not open directory 'Application Data/': Permission denied\n",
      "warning: could not open directory 'Cookies/': Permission denied\n",
      "warning: could not open directory 'Local Settings/': Permission denied\n",
      "warning: could not open directory 'My Documents/': Permission denied\n",
      "warning: could not open directory 'NetHood/': Permission denied\n",
      "warning: could not open directory 'PrintHood/': Permission denied\n",
      "warning: could not open directory 'Recent/': Permission denied\n",
      "warning: could not open directory 'SendTo/': Permission denied\n",
      "warning: could not open directory 'Start Menu/': Permission denied\n",
      "warning: could not open directory 'Templates/': Permission denied\n"
     ]
    }
   ],
   "source": [
    "!git commit -m \"first commit\""
   ]
  },
  {
   "cell_type": "code",
   "execution_count": null,
   "metadata": {},
   "outputs": [],
   "source": [
    "!git add ."
   ]
  },
  {
   "cell_type": "code",
   "execution_count": null,
   "metadata": {},
   "outputs": [],
   "source": [
    "!git remote add origin https://github.com/simplysom/cs570_project.git"
   ]
  },
  {
   "cell_type": "code",
   "execution_count": null,
   "metadata": {},
   "outputs": [],
   "source": []
  }
 ],
 "metadata": {
  "kernelspec": {
   "display_name": "Python 3",
   "language": "python",
   "name": "python3"
  },
  "language_info": {
   "codemirror_mode": {
    "name": "ipython",
    "version": 3
   },
   "file_extension": ".py",
   "mimetype": "text/x-python",
   "name": "python",
   "nbconvert_exporter": "python",
   "pygments_lexer": "ipython3",
   "version": "3.7.4"
  }
 },
 "nbformat": 4,
 "nbformat_minor": 2
}
