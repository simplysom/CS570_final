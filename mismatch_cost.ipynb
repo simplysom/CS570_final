{
  "nbformat": 4,
  "nbformat_minor": 0,
  "metadata": {
    "colab": {
      "name": "Untitled1.ipynb",
      "provenance": [],
      "authorship_tag": "ABX9TyOgDvi1n/+hUY17uc0kJti0",
      "include_colab_link": true
    },
    "kernelspec": {
      "name": "python3",
      "display_name": "Python 3"
    },
    "language_info": {
      "name": "python"
    }
  },
  "cells": [
    {
      "cell_type": "markdown",
      "metadata": {
        "id": "view-in-github",
        "colab_type": "text"
      },
      "source": [
        "<a href=\"https://colab.research.google.com/github/simplysom/CS570_final/blob/main/mismatch_cost.ipynb\" target=\"_parent\"><img src=\"https://colab.research.google.com/assets/colab-badge.svg\" alt=\"Open In Colab\"/></a>"
      ]
    },
    {
      "cell_type": "code",
      "metadata": {
        "id": "uEJecz4BI1As"
      },
      "source": [
        "mismatch_cost=[[0,110,48,94],[110,0,118,48],[48,118,0,110],[94,48,110,0]]"
      ],
      "execution_count": 1,
      "outputs": []
    },
    {
      "cell_type": "code",
      "metadata": {
        "colab": {
          "base_uri": "https://localhost:8080/"
        },
        "id": "_bGXNyJ4KPgS",
        "outputId": "c88682ab-537c-478c-b654-8d5e28e1acad"
      },
      "source": [
        "mismatch_cost[0][1]"
      ],
      "execution_count": 2,
      "outputs": [
        {
          "output_type": "execute_result",
          "data": {
            "text/plain": [
              "110"
            ]
          },
          "metadata": {},
          "execution_count": 2
        }
      ]
    },
    {
      "cell_type": "code",
      "metadata": {
        "id": "t-17mBDhKV4K"
      },
      "source": [
        "def mismatch_cost_calc(c1,c2):\n",
        "  mismatch_cost=[[0,110,48,94],[110,0,118,48],[48,118,0,110],[94,48,110,0]]\n",
        "  if(c1=='A'):\n",
        "    i=0\n",
        "  elif(c1=='C'):\n",
        "    i=1\n",
        "  elif(c1=='T'):\n",
        "    i=2\n",
        "  else:\n",
        "    i=3\n",
        "  if(c2=='A'):\n",
        "    j=0\n",
        "  elif(c2=='C'):\n",
        "    j=1\n",
        "  elif(c2=='T'):\n",
        "    j=2\n",
        "  else:\n",
        "    j=3\n",
        "  return mismatch_cost[i][j] "
      ],
      "execution_count": 7,
      "outputs": []
    },
    {
      "cell_type": "code",
      "metadata": {
        "colab": {
          "base_uri": "https://localhost:8080/"
        },
        "id": "o2GeHL-RL0Yw",
        "outputId": "2650e9d5-f15f-4929-d381-57ea92dd4024"
      },
      "source": [
        "mismatch_cost_calc('A','C')"
      ],
      "execution_count": 8,
      "outputs": [
        {
          "output_type": "execute_result",
          "data": {
            "text/plain": [
              "110"
            ]
          },
          "metadata": {},
          "execution_count": 8
        }
      ]
    },
    {
      "cell_type": "code",
      "metadata": {
        "colab": {
          "base_uri": "https://localhost:8080/"
        },
        "id": "diVt_T-sMsWq",
        "outputId": "900074b4-31f5-42d8-eedd-56363d1cdec5"
      },
      "source": [
        "s1=\"ACTG\"\n",
        "s2=\"TACG\"\n",
        "\n",
        "mismatch_cost=mismatch_cost_calc(s1[0],s2[1])\n",
        "\n",
        "mismatch_cost"
      ],
      "execution_count": 10,
      "outputs": [
        {
          "output_type": "execute_result",
          "data": {
            "text/plain": [
              "0"
            ]
          },
          "metadata": {},
          "execution_count": 10
        }
      ]
    },
    {
      "cell_type": "code",
      "metadata": {
        "id": "5qtLGyVIN3_r"
      },
      "source": [
        ""
      ],
      "execution_count": null,
      "outputs": []
    }
  ]
}